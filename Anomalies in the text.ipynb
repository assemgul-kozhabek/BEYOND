{
 "cells": [
  {
   "cell_type": "code",
   "execution_count": 15,
   "id": "0573c5e4-1da1-45df-90e2-85dedfa1f496",
   "metadata": {},
   "outputs": [
    {
     "name": "stdout",
     "output_type": "stream",
     "text": [
      "Anomalous Transport Reports (Cosine Similarity):\n",
      "['Quantum teleportation used for public transport trials']\n"
     ]
    }
   ],
   "source": [
    "import numpy as np\n",
    "from sklearn.cluster import DBSCAN\n",
    "from sentence_transformers import SentenceTransformer\n",
    "\n",
    "# Sample text data with anomalies\n",
    "data = [\n",
    "    \"Train delayed due to signal failure\",\n",
    "    \"Bus arrived on time, smooth journey\",\n",
    "    \"Severe congestion on highway, massive delays\",\n",
    "    \"Unexpected road closure caused detours\",\n",
    "    \"Metro service is running normally\",\n",
    "    \"Traffic light malfunction at main intersection\",\n",
    "    \"Lost luggage on the subway, need assistance\",\n",
    "    \"Accident on freeway causing major disruptions\",\n",
    "    \"Buses are operating as per schedule\",\n",
    "    \"🚀 Aliens landed on the train tracks, services disrupted\",\n",
    "    \"Quantum teleportation used for public transport trials\"\n",
    "]\n",
    "\n",
    "from sklearn.metrics.pairwise import cosine_similarity\n",
    "\n",
    "# Compute cosine similarity matrix\n",
    "similarity_matrix = cosine_similarity(embeddings)\n",
    "\n",
    "# Calculate average similarity for each sentence\n",
    "avg_similarities = similarity_matrix.mean(axis=1)\n",
    "\n",
    "# Set a threshold (e.g., bottom 10% are anomalies)\n",
    "threshold = np.percentile(avg_similarities, 10)\n",
    "anomalies = [data[i] for i in range(len(data)) if avg_similarities[i] < threshold]\n",
    "\n",
    "print(\"Anomalous Transport Reports (Cosine Similarity):\")\n",
    "print(anomalies if anomalies else \"No anomalies detected\")\n"
   ]
  },
  {
   "cell_type": "code",
   "execution_count": null,
   "id": "b9fe5a1d-63e4-4958-9e4a-80f8aa7c6f3c",
   "metadata": {},
   "outputs": [],
   "source": []
  }
 ],
 "metadata": {
  "kernelspec": {
   "display_name": "Python [conda env:base] *",
   "language": "python",
   "name": "conda-base-py"
  },
  "language_info": {
   "codemirror_mode": {
    "name": "ipython",
    "version": 3
   },
   "file_extension": ".py",
   "mimetype": "text/x-python",
   "name": "python",
   "nbconvert_exporter": "python",
   "pygments_lexer": "ipython3",
   "version": "3.12.7"
  }
 },
 "nbformat": 4,
 "nbformat_minor": 5
}
