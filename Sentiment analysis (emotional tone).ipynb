{
 "cells": [
  {
   "cell_type": "code",
   "execution_count": 3,
   "id": "1ae98c80-dea6-4db9-a6af-63fccf952935",
   "metadata": {},
   "outputs": [
    {
     "name": "stdout",
     "output_type": "stream",
     "text": [
      "Collecting hf_xet\n",
      "  Downloading hf_xet-0.1.4-cp37-abi3-win_amd64.whl.metadata (498 bytes)\n",
      "Downloading hf_xet-0.1.4-cp37-abi3-win_amd64.whl (4.2 MB)\n",
      "   ---------------------------------------- 0.0/4.2 MB ? eta -:--:--\n",
      "   ---------- ----------------------------- 1.0/4.2 MB 5.6 MB/s eta 0:00:01\n",
      "   -------------------- ------------------- 2.1/4.2 MB 5.3 MB/s eta 0:00:01\n",
      "   ------------------------------ --------- 3.1/4.2 MB 5.4 MB/s eta 0:00:01\n",
      "   ---------------------------------------- 4.2/4.2 MB 5.2 MB/s eta 0:00:00\n",
      "Installing collected packages: hf_xet\n",
      "Successfully installed hf_xet-0.1.4\n",
      "Note: you may need to restart the kernel to use updated packages.\n"
     ]
    }
   ],
   "source": [
    "pip install hf_xet"
   ]
  },
  {
   "cell_type": "code",
   "execution_count": 10,
   "id": "1b284ae3-fd8a-430c-9f2b-d5243b35827f",
   "metadata": {},
   "outputs": [
    {
     "name": "stderr",
     "output_type": "stream",
     "text": [
      "No model was supplied, defaulted to distilbert/distilbert-base-uncased-finetuned-sst-2-english and revision 714eb0f (https://huggingface.co/distilbert/distilbert-base-uncased-finetuned-sst-2-english).\n",
      "Using a pipeline without specifying a model name and revision in production is not recommended.\n",
      "Device set to use cpu\n"
     ]
    },
    {
     "name": "stdout",
     "output_type": "stream",
     "text": [
      "Sentiment: POSITIVE (Score: 0.85)\n",
      "\n"
     ]
    }
   ],
   "source": [
    "from transformers import pipeline\n",
    "\n",
    "# Research abstracts with potential bias\n",
    "abstracts = [\n",
    "    \"The continuous urbanisation and increase in vehicle ownership have increasingly exacerbated traffic congestion problems. In this paper, we advocate the use of epidemic theory to model the spreading of traffic congestion in urban cities. Specifically, we use the Susceptible-Infected-Recovered (SIR) model but propose to explicitly consider the road network structure in the model to understand the contagion process of road congestion. This departs from the classical SIR model where homogeneous mixing based on the law of mass action is assumed. For this purpose, we adopt the N-intertwined modeling framework for the SIR model based on continuous-time Markov chain analysis. In our evaluation, we used two real-world traffic datasets collected in California and Los Angeles. We compare our results against both classical and average-degree-based SIR models. Our results show better agreement between the model and actual congestion conditions and shed light on how congestion propagates across a road network. We see the potential application of insights gained from this work on the development of traffic congestion mitigation strategies.\"\n",
    "]\n",
    "\n",
    "# Load sentiment analysis model\n",
    "sentiment_pipeline = pipeline(\"sentiment-analysis\")\n",
    "\n",
    "# Analyze sentiment of each abstract\n",
    "results = sentiment_pipeline(abstracts)\n",
    "\n",
    "#print(\"\\n🧐 Sentiment Analysis of Research Papers:\")\n",
    "for text, result in zip(abstracts, results):\n",
    "    print(f\"Sentiment: {result['label']} (Score: {result['score']:.2f})\\n\")"
   ]
  },
  {
   "cell_type": "code",
   "execution_count": null,
   "id": "d43c4c2a-0e00-460f-9808-f856a3318cab",
   "metadata": {},
   "outputs": [],
   "source": []
  }
 ],
 "metadata": {
  "kernelspec": {
   "display_name": "Python [conda env:base] *",
   "language": "python",
   "name": "conda-base-py"
  },
  "language_info": {
   "codemirror_mode": {
    "name": "ipython",
    "version": 3
   },
   "file_extension": ".py",
   "mimetype": "text/x-python",
   "name": "python",
   "nbconvert_exporter": "python",
   "pygments_lexer": "ipython3",
   "version": "3.12.7"
  }
 },
 "nbformat": 4,
 "nbformat_minor": 5
}
